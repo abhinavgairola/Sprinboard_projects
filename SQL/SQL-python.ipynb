{
 "cells": [
  {
   "cell_type": "code",
   "execution_count": 1,
   "metadata": {},
   "outputs": [
    {
     "data": {
      "text/plain": [
       "[('Table Tennis', 180), ('Snooker Table', 240), ('Pool Table', 270)]"
      ]
     },
     "execution_count": 1,
     "metadata": {},
     "output_type": "execute_result"
    }
   ],
   "source": [
    "import sqlite3\n",
    "\n",
    "\n",
    "conn = sqlite3.connect('sqlite_db_pythonsqlite.db')\n",
    "query1 = \"\"\" select name, revenue from (\n",
    "select facs.name, sum(case \n",
    "when memid = 0 then slots * facs.guestcost\n",
    "else slots * membercost\n",
    "end) as revenue\n",
    "from Bookings as bks\n",
    "inner join Facilities as facs\n",
    "on bks.facid = facs.facid\n",
    "group by facs.name\n",
    ") as agg where revenue < 1000\n",
    "order by revenue;            \"\"\"\n",
    "c = conn.cursor()\n",
    "c.execute(query1)\n",
    "c.fetchall()"
   ]
  },
  {
   "cell_type": "code",
   "execution_count": 17,
   "metadata": {},
   "outputs": [],
   "source": [
    "query2 = \"\"\" select mems.firstname as memfname, mems.surname as memsname, recs.firstname as recfname, recs.surname as recsname\n",
    "from \n",
    "Members mems\n",
    "left outer join Members recs\n",
    "on recs.memid = mems.recommendedby\n",
    "order by memsname, memfname; \n",
    "\n",
    "\n",
    "\n",
    "\n",
    "\"\"\""
   ]
  },
  {
   "cell_type": "code",
   "execution_count": 18,
   "metadata": {},
   "outputs": [
    {
     "data": {
      "text/plain": [
       "[('Florence', 'Bader', 'Ponder', 'Stibbons'),\n",
       " ('Anne', 'Baker', 'Ponder', 'Stibbons'),\n",
       " ('Timothy', 'Baker', 'Jemima', 'Farrell'),\n",
       " ('Tim', 'Boothe', 'Tim', 'Rownam'),\n",
       " ('Gerald', 'Butters', 'Darren', 'Smith'),\n",
       " ('Joan', 'Coplin', 'Timothy', 'Baker'),\n",
       " ('Erica', 'Crumpet', 'Tracy', 'Smith'),\n",
       " ('Nancy', 'Dare', 'Janice', 'Joplette'),\n",
       " ('David', 'Farrell', None, None),\n",
       " ('Jemima', 'Farrell', None, None),\n",
       " ('GUEST', 'GUEST', None, None),\n",
       " ('Matthew', 'Genting', 'Gerald', 'Butters'),\n",
       " ('John', 'Hunt', 'Millicent', 'Purview'),\n",
       " ('David', 'Jones', 'Janice', 'Joplette'),\n",
       " ('Douglas', 'Jones', 'David', 'Jones'),\n",
       " ('Janice', 'Joplette', 'Darren', 'Smith'),\n",
       " ('Anna', 'Mackenzie', 'Darren', 'Smith'),\n",
       " ('Charles', 'Owen', 'Darren', 'Smith'),\n",
       " ('David', 'Pinker', 'Jemima', 'Farrell'),\n",
       " ('Millicent', 'Purview', 'Tracy', 'Smith'),\n",
       " ('Tim', 'Rownam', None, None),\n",
       " ('Henrietta', 'Rumney', 'Matthew', 'Genting'),\n",
       " ('Ramnaresh', 'Sarwin', 'Florence', 'Bader'),\n",
       " ('Darren', 'Smith', None, None),\n",
       " ('Darren', 'Smith', None, None),\n",
       " ('Jack', 'Smith', 'Darren', 'Smith'),\n",
       " ('Tracy', 'Smith', None, None),\n",
       " ('Ponder', 'Stibbons', 'Burton', 'Tracy'),\n",
       " ('Burton', 'Tracy', None, None),\n",
       " ('Hyacinth', 'Tupperware', None, None),\n",
       " ('Henry', 'Worthington-Smyth', 'Tracy', 'Smith')]"
      ]
     },
     "execution_count": 18,
     "metadata": {},
     "output_type": "execute_result"
    }
   ],
   "source": [
    "c = conn.cursor()\n",
    "c.execute(query2)\n",
    "c.fetchall()"
   ]
  },
  {
   "cell_type": "code",
   "execution_count": 23,
   "metadata": {},
   "outputs": [],
   "source": [
    "query3=\"\"\" \n",
    "select facid, sum(slots) as \"Total Slots\"\n",
    "from Bookings\n",
    "group by facid\n",
    "order by facid;  \n",
    "\"\"\""
   ]
  },
  {
   "cell_type": "code",
   "execution_count": 24,
   "metadata": {},
   "outputs": [
    {
     "data": {
      "text/plain": [
       "[(0, 1320),\n",
       " (1, 1278),\n",
       " (2, 1209),\n",
       " (3, 830),\n",
       " (4, 1404),\n",
       " (5, 228),\n",
       " (6, 1104),\n",
       " (7, 908),\n",
       " (8, 910)]"
      ]
     },
     "execution_count": 24,
     "metadata": {},
     "output_type": "execute_result"
    }
   ],
   "source": [
    "c = conn.cursor()\n",
    "c.execute(query3)\n",
    "c.fetchall()"
   ]
  },
  {
   "cell_type": "code",
   "execution_count": 27,
   "metadata": {},
   "outputs": [],
   "source": [
    "query4 = \"\"\"\n",
    "select facid, sum(slots) as \"Total Slots\"\n",
    "\tfrom Bookings\n",
    "\twhere\n",
    "\t\tstarttime >= '2012-09-01'\n",
    "\t\tand starttime < '2012-10-01'\n",
    "\tgroup by facid\n",
    "order by sum(slots);\n",
    "\"\"\""
   ]
  },
  {
   "cell_type": "code",
   "execution_count": 28,
   "metadata": {},
   "outputs": [
    {
     "data": {
      "text/plain": [
       "[(5, 122),\n",
       " (3, 422),\n",
       " (7, 426),\n",
       " (8, 471),\n",
       " (6, 540),\n",
       " (2, 570),\n",
       " (1, 588),\n",
       " (0, 591),\n",
       " (4, 648)]"
      ]
     },
     "execution_count": 28,
     "metadata": {},
     "output_type": "execute_result"
    }
   ],
   "source": [
    "c = conn.cursor()\n",
    "c.execute(query4)\n",
    "c.fetchall()"
   ]
  },
  {
   "cell_type": "code",
   "execution_count": null,
   "metadata": {},
   "outputs": [],
   "source": []
  }
 ],
 "metadata": {
  "kernelspec": {
   "display_name": "Python 3",
   "language": "python",
   "name": "python3"
  },
  "language_info": {
   "codemirror_mode": {
    "name": "ipython",
    "version": 3
   },
   "file_extension": ".py",
   "mimetype": "text/x-python",
   "name": "python",
   "nbconvert_exporter": "python",
   "pygments_lexer": "ipython3",
   "version": "3.8.5"
  }
 },
 "nbformat": 4,
 "nbformat_minor": 4
}
