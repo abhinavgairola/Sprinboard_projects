{
 "cells": [
  {
   "cell_type": "markdown",
   "metadata": {},
   "source": [
    "# Frequentist Inference Case Study - Part A "
   ]
  },
  {
   "cell_type": "markdown",
   "metadata": {},
   "source": [
    "## 1. Learning objectives"
   ]
  },
  {
   "cell_type": "markdown",
   "metadata": {},
   "source": [
    "Welcome to part A of the Frequentist inference case study! The purpose of this case study is to help you apply the concepts associated with Frequentist inference in Python. Frequentist inference is the process of deriving conclusions about an underlying distribution via the observation of data. In particular, you'll practice writing Python code to apply the following statistical concepts: \n",
    "* the _z_-statistic\n",
    "* the _t_-statistic\n",
    "* the difference and relationship between the two\n",
    "* the Central Limit Theorem, including its assumptions and consequences\n",
    "* how to estimate the population mean and standard deviation from a sample\n",
    "* the concept of a sampling distribution of a test statistic, particularly for the mean\n",
    "* how to combine these concepts to calculate a confidence interval"
   ]
  },
  {
   "cell_type": "markdown",
   "metadata": {},
   "source": [
    "## Prerequisites"
   ]
  },
  {
   "cell_type": "markdown",
   "metadata": {},
   "source": [
    "To be able to complete this notebook, you are expected to have a basic understanding of:\n",
    "* what a random variable is (p.400 of Professor Spiegelhalter's *The Art of Statistics, hereinafter AoS*)\n",
    "* what a population, and a population distribution, are (p. 397 of *AoS*)\n",
    "* a high-level sense of what the normal distribution is (p. 394 of *AoS*)\n",
    "* what the t-statistic is (p. 275 of *AoS*)\n",
    "\n",
    "Happily, these should all be concepts with which you are reasonably familiar after having read ten chapters of Professor Spiegelhalter's book, *The Art of Statistics*.\n",
    "\n",
    "We'll try to relate the concepts in this case study back to page numbers in *The Art of Statistics* so that you can focus on the Python aspects of this case study. The second part (part B) of this case study will involve another, more real-world application of these tools. "
   ]
  },
  {
   "cell_type": "markdown",
   "metadata": {},
   "source": [
    "For this notebook, we will use data sampled from a known normal distribution. This allows us to compare our results with theoretical expectations."
   ]
  },
  {
   "cell_type": "markdown",
   "metadata": {},
   "source": [
    "## 2. An introduction to sampling from the normal distribution"
   ]
  },
  {
   "cell_type": "markdown",
   "metadata": {},
   "source": [
    "First, let's explore the ways we can generate the normal distribution. While there's a fair amount of interest in [sklearn](https://scikit-learn.org/stable/) within the machine learning community, you're likely to have heard of [scipy](https://docs.scipy.org/doc/scipy-0.15.1/reference/index.html) if you're coming from the sciences. For this assignment, you'll use [scipy.stats](https://docs.scipy.org/doc/scipy-0.15.1/reference/tutorial/stats.html) to complete your work. \n",
    "\n",
    "This assignment will require some digging around and getting your hands dirty (your learning is maximized that way)! You should have the research skills and the tenacity to do these tasks independently, but if you struggle, reach out to your immediate community and your mentor for help. "
   ]
  },
  {
   "cell_type": "code",
   "execution_count": 35,
   "metadata": {},
   "outputs": [],
   "source": [
    "from scipy.stats import norm\n",
    "from scipy.stats import t\n",
    "import numpy as np\n",
    "import pandas as pd\n",
    "from numpy.random import seed\n",
    "import matplotlib.pyplot as plt"
   ]
  },
  {
   "cell_type": "markdown",
   "metadata": {},
   "source": [
    "__Q1:__ Call up the documentation for the `norm` function imported above. (Hint: that documentation is [here](https://docs.scipy.org/doc/scipy/reference/generated/scipy.stats.norm.html)). What is the second listed method?"
   ]
  },
  {
   "cell_type": "code",
   "execution_count": 36,
   "metadata": {},
   "outputs": [
    {
     "name": "stdout",
     "output_type": "stream",
     "text": [
      "Help on rv_frozen in module scipy.stats._distn_infrastructure object:\n",
      "\n",
      "class rv_frozen(builtins.object)\n",
      " |  rv_frozen(dist, *args, **kwds)\n",
      " |  \n",
      " |  # Frozen RV class\n",
      " |  \n",
      " |  Methods defined here:\n",
      " |  \n",
      " |  __init__(self, dist, *args, **kwds)\n",
      " |      Initialize self.  See help(type(self)) for accurate signature.\n",
      " |  \n",
      " |  cdf(self, x)\n",
      " |  \n",
      " |  entropy(self)\n",
      " |  \n",
      " |  expect(self, func=None, lb=None, ub=None, conditional=False, **kwds)\n",
      " |  \n",
      " |  interval(self, alpha)\n",
      " |  \n",
      " |  isf(self, q)\n",
      " |  \n",
      " |  logcdf(self, x)\n",
      " |  \n",
      " |  logpdf(self, x)\n",
      " |  \n",
      " |  logpmf(self, k)\n",
      " |  \n",
      " |  logsf(self, x)\n",
      " |  \n",
      " |  mean(self)\n",
      " |  \n",
      " |  median(self)\n",
      " |  \n",
      " |  moment(self, n)\n",
      " |  \n",
      " |  pdf(self, x)\n",
      " |  \n",
      " |  pmf(self, k)\n",
      " |  \n",
      " |  ppf(self, q)\n",
      " |  \n",
      " |  rvs(self, size=None, random_state=None)\n",
      " |  \n",
      " |  sf(self, x)\n",
      " |  \n",
      " |  stats(self, moments='mv')\n",
      " |  \n",
      " |  std(self)\n",
      " |  \n",
      " |  var(self)\n",
      " |  \n",
      " |  ----------------------------------------------------------------------\n",
      " |  Data descriptors defined here:\n",
      " |  \n",
      " |  __dict__\n",
      " |      dictionary for instance variables (if defined)\n",
      " |  \n",
      " |  __weakref__\n",
      " |      list of weak references to the object (if defined)\n",
      " |  \n",
      " |  random_state\n",
      "\n"
     ]
    }
   ],
   "source": [
    "help(norm())"
   ]
  },
  {
   "cell_type": "markdown",
   "metadata": {},
   "source": [
    "__A:__ cdf"
   ]
  },
  {
   "cell_type": "markdown",
   "metadata": {},
   "source": [
    "__Q2:__ Use the method that generates random variates to draw five samples from the standard normal distribution. "
   ]
  },
  {
   "cell_type": "markdown",
   "metadata": {},
   "source": [
    "__A:__ rvs"
   ]
  },
  {
   "cell_type": "code",
   "execution_count": 37,
   "metadata": {},
   "outputs": [],
   "source": [
    "seed(47)\n",
    "# draw five samples here\n",
    "Samples = norm.rvs(size = 5)\n"
   ]
  },
  {
   "cell_type": "markdown",
   "metadata": {},
   "source": [
    "__Q3:__ What is the mean of this sample? Is it exactly equal to the value you expected? Hint: the sample was drawn from the standard normal distribution. If you want a reminder of the properties of this distribution, check out p. 85 of *AoS*. "
   ]
  },
  {
   "cell_type": "markdown",
   "metadata": {},
   "source": [
    "__A:__ np.mean(Samples)"
   ]
  },
  {
   "cell_type": "code",
   "execution_count": 38,
   "metadata": {},
   "outputs": [
    {
     "data": {
      "text/plain": [
       "0.19355593334131074"
      ]
     },
     "execution_count": 38,
     "metadata": {},
     "output_type": "execute_result"
    }
   ],
   "source": [
    "# Calculate and print the mean here, hint: use np.mean()\n",
    "np.mean(Samples)"
   ]
  },
  {
   "cell_type": "markdown",
   "metadata": {},
   "source": [
    "__Q4:__ What is the standard deviation of these numbers? Calculate this manually here as $\\sqrt{\\frac{\\sum_i(x_i - \\bar{x})^2}{n}}$ (This is just the definition of **standard deviation** given by Professor Spiegelhalter on p.403 of *AoS*). Hint: np.sqrt() and np.sum() will be useful here and remember that numPy supports [broadcasting](https://docs.scipy.org/doc/numpy/user/basics.broadcasting.html)."
   ]
  },
  {
   "cell_type": "markdown",
   "metadata": {},
   "source": [
    "__A:__"
   ]
  },
  {
   "cell_type": "code",
   "execution_count": 39,
   "metadata": {},
   "outputs": [
    {
     "data": {
      "text/plain": [
       "0.9606195639478641"
      ]
     },
     "execution_count": 39,
     "metadata": {},
     "output_type": "execute_result"
    }
   ],
   "source": [
    "np.std(Samples)"
   ]
  },
  {
   "cell_type": "markdown",
   "metadata": {},
   "source": [
    "Here we have calculated the actual standard deviation of a small data set (of size 5). But in this case, this small data set is actually a sample from our larger (infinite) population. In this case, the population is infinite because we could keep drawing our normal random variates until our computers die! \n",
    "\n",
    "In general, the sample mean we calculate will not be equal to the population mean (as we saw above). A consequence of this is that the sum of squares of the deviations from the _population_ mean will be bigger than the sum of squares of the deviations from the _sample_ mean. In other words, the sum of squares of the deviations from the _sample_ mean is too small to give an unbiased estimate of the _population_ variance. An example of this effect is given [here](https://en.wikipedia.org/wiki/Bessel%27s_correction#Source_of_bias). Scaling our estimate of the variance by the factor $n/(n-1)$ gives an unbiased estimator of the population variance. This factor is known as [Bessel's correction](https://en.wikipedia.org/wiki/Bessel%27s_correction). The consequence of this is that the $n$ in the denominator is replaced by $n-1$.\n",
    "\n",
    "You can see Bessel's correction reflected in Professor Spiegelhalter's definition of **variance** on p. 405 of *AoS*.\n",
    "\n",
    "__Q5:__ If all we had to go on was our five samples, what would be our best estimate of the population standard deviation? Use Bessel's correction ($n-1$ in the denominator), thus $\\sqrt{\\frac{\\sum_i(x_i - \\bar{x})^2}{n-1}}$."
   ]
  },
  {
   "cell_type": "markdown",
   "metadata": {},
   "source": [
    "__A:__"
   ]
  },
  {
   "cell_type": "code",
   "execution_count": 40,
   "metadata": {},
   "outputs": [
    {
     "data": {
      "text/plain": [
       "1.0740053227518152"
      ]
     },
     "execution_count": 40,
     "metadata": {},
     "output_type": "execute_result"
    }
   ],
   "source": [
    "np.sqrt(sum((Samples-np.mean(Samples))**2)/(len(Samples)-1))"
   ]
  },
  {
   "cell_type": "markdown",
   "metadata": {},
   "source": [
    "__Q6:__ Now use numpy's std function to calculate the standard deviation of our random samples. Which of the above standard deviations did it return?"
   ]
  },
  {
   "cell_type": "markdown",
   "metadata": {},
   "source": [
    "__A:__ Just the definition of standard deviation without Bessel's correction"
   ]
  },
  {
   "cell_type": "code",
   "execution_count": 41,
   "metadata": {},
   "outputs": [
    {
     "data": {
      "text/plain": [
       "0.9606195639478641"
      ]
     },
     "execution_count": 41,
     "metadata": {},
     "output_type": "execute_result"
    }
   ],
   "source": [
    "np.std(Samples)"
   ]
  },
  {
   "cell_type": "markdown",
   "metadata": {},
   "source": [
    "__Q7:__ Consult the documentation for np.std() to see how to apply the correction for estimating the population parameter and verify this produces the expected result."
   ]
  },
  {
   "cell_type": "markdown",
   "metadata": {},
   "source": [
    "__A:__"
   ]
  },
  {
   "cell_type": "code",
   "execution_count": 42,
   "metadata": {},
   "outputs": [
    {
     "name": "stdout",
     "output_type": "stream",
     "text": [
      "Help on function std in module numpy:\n",
      "\n",
      "std(a, axis=None, dtype=None, out=None, ddof=0, keepdims=<no value>)\n",
      "    Compute the standard deviation along the specified axis.\n",
      "    \n",
      "    Returns the standard deviation, a measure of the spread of a distribution,\n",
      "    of the array elements. The standard deviation is computed for the\n",
      "    flattened array by default, otherwise over the specified axis.\n",
      "    \n",
      "    Parameters\n",
      "    ----------\n",
      "    a : array_like\n",
      "        Calculate the standard deviation of these values.\n",
      "    axis : None or int or tuple of ints, optional\n",
      "        Axis or axes along which the standard deviation is computed. The\n",
      "        default is to compute the standard deviation of the flattened array.\n",
      "    \n",
      "        .. versionadded:: 1.7.0\n",
      "    \n",
      "        If this is a tuple of ints, a standard deviation is performed over\n",
      "        multiple axes, instead of a single axis or all the axes as before.\n",
      "    dtype : dtype, optional\n",
      "        Type to use in computing the standard deviation. For arrays of\n",
      "        integer type the default is float64, for arrays of float types it is\n",
      "        the same as the array type.\n",
      "    out : ndarray, optional\n",
      "        Alternative output array in which to place the result. It must have\n",
      "        the same shape as the expected output but the type (of the calculated\n",
      "        values) will be cast if necessary.\n",
      "    ddof : int, optional\n",
      "        Means Delta Degrees of Freedom.  The divisor used in calculations\n",
      "        is ``N - ddof``, where ``N`` represents the number of elements.\n",
      "        By default `ddof` is zero.\n",
      "    keepdims : bool, optional\n",
      "        If this is set to True, the axes which are reduced are left\n",
      "        in the result as dimensions with size one. With this option,\n",
      "        the result will broadcast correctly against the input array.\n",
      "    \n",
      "        If the default value is passed, then `keepdims` will not be\n",
      "        passed through to the `std` method of sub-classes of\n",
      "        `ndarray`, however any non-default value will be.  If the\n",
      "        sub-class' method does not implement `keepdims` any\n",
      "        exceptions will be raised.\n",
      "    \n",
      "    Returns\n",
      "    -------\n",
      "    standard_deviation : ndarray, see dtype parameter above.\n",
      "        If `out` is None, return a new array containing the standard deviation,\n",
      "        otherwise return a reference to the output array.\n",
      "    \n",
      "    See Also\n",
      "    --------\n",
      "    var, mean, nanmean, nanstd, nanvar\n",
      "    ufuncs-output-type\n",
      "    \n",
      "    Notes\n",
      "    -----\n",
      "    The standard deviation is the square root of the average of the squared\n",
      "    deviations from the mean, i.e., ``std = sqrt(mean(abs(x - x.mean())**2))``.\n",
      "    \n",
      "    The average squared deviation is normally calculated as\n",
      "    ``x.sum() / N``, where ``N = len(x)``.  If, however, `ddof` is specified,\n",
      "    the divisor ``N - ddof`` is used instead. In standard statistical\n",
      "    practice, ``ddof=1`` provides an unbiased estimator of the variance\n",
      "    of the infinite population. ``ddof=0`` provides a maximum likelihood\n",
      "    estimate of the variance for normally distributed variables. The\n",
      "    standard deviation computed in this function is the square root of\n",
      "    the estimated variance, so even with ``ddof=1``, it will not be an\n",
      "    unbiased estimate of the standard deviation per se.\n",
      "    \n",
      "    Note that, for complex numbers, `std` takes the absolute\n",
      "    value before squaring, so that the result is always real and nonnegative.\n",
      "    \n",
      "    For floating-point input, the *std* is computed using the same\n",
      "    precision the input has. Depending on the input data, this can cause\n",
      "    the results to be inaccurate, especially for float32 (see example below).\n",
      "    Specifying a higher-accuracy accumulator using the `dtype` keyword can\n",
      "    alleviate this issue.\n",
      "    \n",
      "    Examples\n",
      "    --------\n",
      "    >>> a = np.array([[1, 2], [3, 4]])\n",
      "    >>> np.std(a)\n",
      "    1.1180339887498949 # may vary\n",
      "    >>> np.std(a, axis=0)\n",
      "    array([1.,  1.])\n",
      "    >>> np.std(a, axis=1)\n",
      "    array([0.5,  0.5])\n",
      "    \n",
      "    In single precision, std() can be inaccurate:\n",
      "    \n",
      "    >>> a = np.zeros((2, 512*512), dtype=np.float32)\n",
      "    >>> a[0, :] = 1.0\n",
      "    >>> a[1, :] = 0.1\n",
      "    >>> np.std(a)\n",
      "    0.45000005\n",
      "    \n",
      "    Computing the standard deviation in float64 is more accurate:\n",
      "    \n",
      "    >>> np.std(a, dtype=np.float64)\n",
      "    0.44999999925494177 # may vary\n",
      "\n"
     ]
    }
   ],
   "source": [
    "help(np.std)"
   ]
  },
  {
   "cell_type": "code",
   "execution_count": 43,
   "metadata": {},
   "outputs": [
    {
     "data": {
      "text/plain": [
       "1.0740053227518152"
      ]
     },
     "execution_count": 43,
     "metadata": {},
     "output_type": "execute_result"
    }
   ],
   "source": [
    "np.std(Samples,ddof=1)"
   ]
  },
  {
   "cell_type": "markdown",
   "metadata": {},
   "source": [
    "### Summary of section"
   ]
  },
  {
   "cell_type": "markdown",
   "metadata": {},
   "source": [
    "In this section, you've been introduced to the scipy.stats package and used it to draw a small sample from the standard normal distribution. You've calculated the average (the mean) of this sample and seen that this is not exactly equal to the expected population parameter (which we know because we're generating the random variates from a specific, known distribution). You've been introduced to two ways of calculating the standard deviation; one uses $n$ in the denominator and the other uses $n-1$ (Bessel's correction). You've also seen which of these calculations np.std() performs by default and how to get it to generate the other."
   ]
  },
  {
   "cell_type": "markdown",
   "metadata": {},
   "source": [
    "You use $n$ as the denominator if you want to calculate the standard deviation of a sequence of numbers. You use $n-1$ if you are using this sequence of numbers to estimate the population parameter. This brings us to some terminology that can be a little confusing.\n",
    "\n",
    "The population parameter is traditionally written as $\\sigma$ and the sample statistic as $s$. Rather unhelpfully, $s$ is also called the sample standard deviation (using $n-1$) whereas the standard deviation of the sample uses $n$. That's right, we have the sample standard deviation and the standard deviation of the sample and they're not the same thing!\n",
    "\n",
    "The sample standard deviation\n",
    "\\begin{equation}\n",
    "s = \\sqrt{\\frac{\\sum_i(x_i - \\bar{x})^2}{n-1}} \\approx \\sigma,\n",
    "\\end{equation}\n",
    "is our best (unbiased) estimate of the population parameter ($\\sigma$).\n",
    "\n",
    "If your dataset _is_ your entire population, you simply want to calculate the population parameter, $\\sigma$, via\n",
    "\\begin{equation}\n",
    "\\sigma = \\sqrt{\\frac{\\sum_i(x_i - \\bar{x})^2}{n}}\n",
    "\\end{equation}\n",
    "as you have complete, full knowledge of your population. In other words, your sample _is_ your population. It's worth noting that we're dealing with what Professor Spiegehalter describes on p. 92 of *AoS* as a **metaphorical population**: we have all the data, and we act as if the data-point is taken from a population at random. We can think of this population as an imaginary space of possibilities. \n",
    "\n",
    "If, however, you have sampled _from_ your population, you only have partial knowledge of the state of your population. In this case, the standard deviation of your sample is not an unbiased estimate of the standard deviation of the population, in which case you seek to estimate that population parameter via the sample standard deviation, which uses the $n-1$ denominator."
   ]
  },
  {
   "cell_type": "markdown",
   "metadata": {},
   "source": [
    "Great work so far! Now let's dive deeper."
   ]
  },
  {
   "cell_type": "markdown",
   "metadata": {},
   "source": [
    "## 3. Sampling distributions"
   ]
  },
  {
   "cell_type": "markdown",
   "metadata": {},
   "source": [
    "So far we've been dealing with the concept of taking a sample from a population to infer the population parameters. One statistic we calculated for a sample was the mean. As our samples will be expected to vary from one draw to another, so will our sample statistics. If we were to perform repeat draws of size $n$ and calculate the mean of each, we would expect to obtain a distribution of values. This is the sampling distribution of the mean. **The Central Limit Theorem (CLT)** tells us that such a distribution will approach a normal distribution as $n$ increases (the intuitions behind the CLT are covered in full on p. 236 of *AoS*). For the sampling distribution of the mean, the standard deviation of this distribution is given by\n",
    "\n",
    "\\begin{equation}\n",
    "\\sigma_{mean} = \\frac{\\sigma}{\\sqrt n}\n",
    "\\end{equation}\n",
    "\n",
    "where $\\sigma_{mean}$ is the standard deviation of the sampling distribution of the mean and $\\sigma$ is the standard deviation of the population (the population parameter)."
   ]
  },
  {
   "cell_type": "markdown",
   "metadata": {},
   "source": [
    "This is important because typically we are dealing with samples from populations and all we know about the population is what we see in the sample. From this sample, we want to make inferences about the population. We may do this, for example, by looking at the histogram of the values and by calculating the mean and standard deviation (as estimates of the population parameters), and so we are intrinsically interested in how these quantities vary across samples. \n",
    "\n",
    "In other words, now that we've taken one sample of size $n$ and made some claims about the general population, what if we were to take another sample of size $n$? Would we get the same result? Would we make the same claims about the general population? This brings us to a fundamental question: _when we make some inference about a population based on our sample, how confident can we be that we've got it 'right'?_\n",
    "\n",
    "We need to think about **estimates and confidence intervals**: those concepts covered in Chapter 7, p. 189, of *AoS*."
   ]
  },
  {
   "cell_type": "markdown",
   "metadata": {},
   "source": [
    "Now, the standard normal distribution (with its variance equal to its standard deviation of one) would not be a great illustration of a key point. Instead, let's imagine we live in a town of 50,000 people and we know the height of everyone in this town. We will have 50,000 numbers that tell us everything about our population. We'll simulate these numbers now and put ourselves in one particular town, called 'town 47', where the population mean height is 172 cm and population standard deviation is 5 cm."
   ]
  },
  {
   "cell_type": "code",
   "execution_count": 44,
   "metadata": {},
   "outputs": [],
   "source": [
    "seed(47)\n",
    "pop_heights = norm.rvs(172, 5, size=50000)"
   ]
  },
  {
   "cell_type": "code",
   "execution_count": 45,
   "metadata": {},
   "outputs": [
    {
     "data": {
      "image/png": "[encoded data removed]",
      "text/plain": [
       "<Figure size 432x288 with 1 Axes>"
      ]
     },
     "metadata": {
      "needs_background": "light"
     },
     "output_type": "display_data"
    }
   ],
   "source": [
    "_ = plt.hist(pop_heights, bins=30)\n",
    "_ = plt.xlabel('height (cm)')\n",
    "_ = plt.ylabel('number of people')\n",
    "_ = plt.title('Distribution of heights in entire town population')\n",
    "_ = plt.axvline(172, color='r')\n",
    "_ = plt.axvline(172+5, color='r', linestyle='--')\n",
    "_ = plt.axvline(172-5, color='r', linestyle='--')\n",
    "_ = plt.axvline(172+10, color='r', linestyle='-.')\n",
    "_ = plt.axvline(172-10, color='r', linestyle='-.')"
   ]
  },
  {
   "cell_type": "markdown",
   "metadata": {},
   "source": [
    "Now, 50,000 people is rather a lot to chase after with a tape measure. If all you want to know is the average height of the townsfolk, then can you just go out and measure a sample to get a pretty good estimate of the average height?"
   ]
  },
  {
   "cell_type": "code",
   "execution_count": 46,
   "metadata": {},
   "outputs": [],
   "source": [
    "def townsfolk_sampler(n):\n",
    "    return np.random.choice(pop_heights, n)"
   ]
  },
  {
   "cell_type": "markdown",
   "metadata": {},
   "source": [
    "Let's say you go out one day and randomly sample 10 people to measure."
   ]
  },
  {
   "cell_type": "code",
   "execution_count": 47,
   "metadata": {},
   "outputs": [],
   "source": [
    "seed(47)\n",
    "daily_sample1 = townsfolk_sampler(10)"
   ]
  },
  {
   "cell_type": "code",
   "execution_count": 48,
   "metadata": {},
   "outputs": [
    {
     "data": {
      "image/png": "[encoded data removed]",
      "text/plain": [
       "<Figure size 432x288 with 1 Axes>"
      ]
     },
     "metadata": {
      "needs_background": "light"
     },
     "output_type": "display_data"
    }
   ],
   "source": [
    "_ = plt.hist(daily_sample1, bins=10)\n",
    "_ = plt.xlabel('height (cm)')\n",
    "_ = plt.ylabel('number of people')\n",
    "_ = plt.title('Distribution of heights in sample size 10')"
   ]
  },
  {
   "cell_type": "markdown",
   "metadata": {},
   "source": [
    "The sample distribution doesn't resemble what we take the population distribution to be. What do we get for the mean?"
   ]
  },
  {
   "cell_type": "code",
   "execution_count": 49,
   "metadata": {},
   "outputs": [
    {
     "data": {
      "text/plain": [
       "173.47911444163503"
      ]
     },
     "execution_count": 49,
     "metadata": {},
     "output_type": "execute_result"
    }
   ],
   "source": [
    "np.mean(daily_sample1)"
   ]
  },
  {
   "cell_type": "markdown",
   "metadata": {},
   "source": [
    "And if we went out and repeated this experiment?"
   ]
  },
  {
   "cell_type": "code",
   "execution_count": 50,
   "metadata": {},
   "outputs": [],
   "source": [
    "daily_sample2 = townsfolk_sampler(10)"
   ]
  },
  {
   "cell_type": "code",
   "execution_count": 51,
   "metadata": {},
   "outputs": [
    {
     "data": {
      "text/plain": [
       "173.7317666636263"
      ]
     },
     "execution_count": 51,
     "metadata": {},
     "output_type": "execute_result"
    }
   ],
   "source": [
    "np.mean(daily_sample2)"
   ]
  },
  {
   "cell_type": "markdown",
   "metadata": {},
   "source": [
    "__Q8:__ Simulate performing this random trial every day for a year, calculating the mean of each daily sample of 10, and plot the resultant sampling distribution of the mean."
   ]
  },
  {
   "cell_type": "markdown",
   "metadata": {},
   "source": [
    "__A:__"
   ]
  },
  {
   "cell_type": "code",
   "execution_count": 52,
   "metadata": {},
   "outputs": [],
   "source": [
    "def sample_each_day(n, samplesize):\n",
    "    Data = [ np.mean(townsfolk_sampler(samplesize)) for i in range(0,n)]\n",
    "    return Data"
   ]
  },
  {
   "cell_type": "code",
   "execution_count": 53,
   "metadata": {},
   "outputs": [
    {
     "data": {
      "text/plain": [
       "[173.47911444163503,\n",
       " 173.7317666636263,\n",
       " 172.54893867276104,\n",
       " 171.43257319553967,\n",
       " 172.7151613148319,\n",
       " 172.82799509412092,\n",
       " 172.72104620090087,\n",
       " 171.35684251559897,\n",
       " 172.06082915612325,\n",
       " 175.02116165843373,\n",
       " 172.87297442836729,\n",
       " 173.10695709894807,\n",
       " 174.28251319331625,\n",
       " 172.16799412617846,\n",
       " 172.2677166306168,\n",
       " 174.1148759511088,\n",
       " 173.76989560652873,\n",
       " 173.53587661697912,\n",
       " 171.73109636549412,\n",
       " 173.6192933521118,\n",
       " 171.4122703231149,\n",
       " 169.8912622859572,\n",
       " 171.50855064552047,\n",
       " 170.79777102526515,\n",
       " 172.13293591535268,\n",
       " 174.04237966386012,\n",
       " 171.41699712312,\n",
       " 169.68751210980005,\n",
       " 170.70138979236123,\n",
       " 170.50288822335273,\n",
       " 171.1227335807866,\n",
       " 172.18184913764566,\n",
       " 172.68945746436543,\n",
       " 171.0001004904461,\n",
       " 170.89451146667253,\n",
       " 171.09020297014567,\n",
       " 171.25533609966612,\n",
       " 172.10797845540236,\n",
       " 171.08827013545948,\n",
       " 172.6513531230999,\n",
       " 175.070689805427,\n",
       " 169.97597644140453,\n",
       " 172.2797674841427,\n",
       " 169.68001261485807,\n",
       " 172.80409332096238,\n",
       " 172.55229420480956,\n",
       " 173.83054118621465,\n",
       " 173.37568836233626,\n",
       " 171.89359355779794,\n",
       " 171.6665742212276,\n",
       " 169.9004743876151,\n",
       " 172.72984382291025,\n",
       " 169.46043079819069,\n",
       " 171.9066883458138,\n",
       " 174.31024504533102,\n",
       " 172.9549236584936,\n",
       " 170.26013472404284,\n",
       " 171.62782407697222,\n",
       " 171.93287814147618,\n",
       " 172.67107823125573,\n",
       " 173.35560534761376,\n",
       " 171.5928923513852,\n",
       " 174.01996330433786,\n",
       " 168.70526103039566,\n",
       " 174.4291544932485,\n",
       " 172.99782989083792,\n",
       " 169.85679627411287,\n",
       " 170.51072224889845,\n",
       " 169.90321605710665,\n",
       " 170.15223960286718,\n",
       " 171.69847097209998,\n",
       " 172.1247564115574,\n",
       " 170.7393421379653,\n",
       " 169.418394777909,\n",
       " 172.90126387627427,\n",
       " 173.349965975603,\n",
       " 172.31408857482649,\n",
       " 170.95008031433505,\n",
       " 168.6026063397666,\n",
       " 169.23740477644245,\n",
       " 168.98395307845203,\n",
       " 170.24977041291908,\n",
       " 172.28866881866844,\n",
       " 169.4954901013438,\n",
       " 172.14048141305437,\n",
       " 170.63029872192917,\n",
       " 170.81450578452282,\n",
       " 172.7564010423859,\n",
       " 172.270704952318,\n",
       " 172.75102003444198,\n",
       " 170.29337424391514,\n",
       " 171.37511929823515,\n",
       " 171.19824057530133,\n",
       " 175.6782843800554,\n",
       " 169.98345772406594,\n",
       " 171.97617797193666,\n",
       " 170.56013527190584,\n",
       " 171.50909868435141,\n",
       " 172.75712339394886,\n",
       " 173.2095114832777,\n",
       " 172.10653392996448,\n",
       " 173.14812711662768,\n",
       " 170.10688635551668,\n",
       " 173.3757843013828,\n",
       " 172.1393269463663,\n",
       " 169.68126101129226,\n",
       " 173.51940617466894,\n",
       " 170.64933192553676,\n",
       " 172.9302606791998,\n",
       " 171.55990939669806,\n",
       " 171.92304718402258,\n",
       " 173.64455234145223,\n",
       " 171.97230993627605,\n",
       " 171.4139294230426,\n",
       " 173.09648158348617,\n",
       " 171.59077758086715,\n",
       " 172.02580024296842,\n",
       " 172.21608501143896,\n",
       " 172.0071934611132,\n",
       " 172.33599701625351,\n",
       " 171.028648188148,\n",
       " 173.3730965923039,\n",
       " 171.63339660555894,\n",
       " 172.24280703841163,\n",
       " 170.96259686809128,\n",
       " 175.03094575416975,\n",
       " 173.6428041806974,\n",
       " 172.95723098557428,\n",
       " 171.9821148360482,\n",
       " 172.86230119411863,\n",
       " 173.2818959291762,\n",
       " 170.74391386736906,\n",
       " 171.85618466569377,\n",
       " 174.516404929308,\n",
       " 171.9757816604739,\n",
       " 172.8532356879273,\n",
       " 170.8863347896039,\n",
       " 172.02699101055003,\n",
       " 171.00702877519421,\n",
       " 174.4668408638607,\n",
       " 167.8482928708372,\n",
       " 170.87326329719744,\n",
       " 172.24076331599596,\n",
       " 174.06036645523105,\n",
       " 173.65199868699432,\n",
       " 171.31020238919996,\n",
       " 172.8757717751434,\n",
       " 169.00973760863025,\n",
       " 169.36066339463133,\n",
       " 172.8394581127686,\n",
       " 173.2849490876725,\n",
       " 167.94708299375463,\n",
       " 171.4944813760528,\n",
       " 173.26676195725375,\n",
       " 174.36603867262343,\n",
       " 169.3835107781193,\n",
       " 170.81702577580646,\n",
       " 172.65881074097973,\n",
       " 170.5043935231086,\n",
       " 174.48530539837125,\n",
       " 169.28374480528095,\n",
       " 173.11587199242774,\n",
       " 169.48869927808207,\n",
       " 174.05802462897157,\n",
       " 170.41037396562533,\n",
       " 170.3850832762101,\n",
       " 171.14614333175618,\n",
       " 171.28870072653964,\n",
       " 172.76671420430083,\n",
       " 169.95471759650735,\n",
       " 172.86382182013728,\n",
       " 172.6225511373559,\n",
       " 172.33656268781826,\n",
       " 168.62332166556928,\n",
       " 172.7111357521249,\n",
       " 171.82186352481727,\n",
       " 173.28085693950445,\n",
       " 169.06595378147523,\n",
       " 174.0801392411933,\n",
       " 174.9773349255948,\n",
       " 171.28213572811805,\n",
       " 171.6730813592417,\n",
       " 169.45634682144438,\n",
       " 173.43393215657332,\n",
       " 170.86374559269453,\n",
       " 173.21556904620837,\n",
       " 169.1862678724352,\n",
       " 171.20026812399502,\n",
       " 171.47106714440469,\n",
       " 173.32428817479482,\n",
       " 171.2691694937409,\n",
       " 169.74157082970493,\n",
       " 172.91823143229223,\n",
       " 171.78081907440483,\n",
       " 170.11860847293156,\n",
       " 171.87026079537708,\n",
       " 170.74069830935466,\n",
       " 172.46488874903895,\n",
       " 172.98225023418647,\n",
       " 174.46081103471732,\n",
       " 173.49400936370455,\n",
       " 169.51557464300683,\n",
       " 171.73063129611373,\n",
       " 170.7169353336031,\n",
       " 174.6602048576773,\n",
       " 172.3849780185491,\n",
       " 172.79482744498335,\n",
       " 172.66798523120897,\n",
       " 173.03683236655385,\n",
       " 169.03388574785288,\n",
       " 170.27625725905142,\n",
       " 171.6548397802826,\n",
       " 173.9110065626827,\n",
       " 172.36666043469813,\n",
       " 173.0806786048489,\n",
       " 170.5454321114398,\n",
       " 171.63218644552478,\n",
       " 173.75734815005714,\n",
       " 173.4663602192376,\n",
       " 173.93185477413437,\n",
       " 172.21851080918435,\n",
       " 174.99259084185877,\n",
       " 172.79446184726748,\n",
       " 171.51052052455086,\n",
       " 173.24255009028505,\n",
       " 171.8830523292385,\n",
       " 172.78335534863947,\n",
       " 171.91694787219325,\n",
       " 170.12924519370299,\n",
       " 171.6125036310404,\n",
       " 172.90245069941636,\n",
       " 173.09703321285585,\n",
       " 172.13187273881533,\n",
       " 173.1671394346884,\n",
       " 170.08389854480225,\n",
       " 173.93739863468136,\n",
       " 171.3831801935383,\n",
       " 173.0648792145468,\n",
       " 171.67286845324548,\n",
       " 172.74454332610662,\n",
       " 170.29325491672353,\n",
       " 168.50440626366915,\n",
       " 172.52943025832766,\n",
       " 168.22985199166658,\n",
       " 173.63375684095035,\n",
       " 173.8223904901435,\n",
       " 170.64928888578683,\n",
       " 171.7803289727296,\n",
       " 169.31058690937567,\n",
       " 170.90044256609488,\n",
       " 172.67827045507593,\n",
       " 172.0422309421312,\n",
       " 173.17659183674408,\n",
       " 169.49895501607463,\n",
       " 172.8853684043484,\n",
       " 173.3982671958468,\n",
       " 169.6718344723641,\n",
       " 169.3434812632541,\n",
       " 175.1631703883851,\n",
       " 170.59481340389107,\n",
       " 170.58426243494063,\n",
       " 172.72334025117496,\n",
       " 172.1307888143033,\n",
       " 169.01609630447473,\n",
       " 171.15681558897592,\n",
       " 174.684931280434,\n",
       " 169.29446475103575,\n",
       " 171.65686646102714,\n",
       " 173.8172097345154,\n",
       " 170.72391555094927,\n",
       " 170.5159267446483,\n",
       " 174.0926258645925,\n",
       " 168.74354262686796,\n",
       " 171.60449755276952,\n",
       " 173.35249290348906,\n",
       " 169.59524622005407,\n",
       " 172.31825115793964,\n",
       " 173.43051530494725,\n",
       " 175.97945459508188,\n",
       " 172.41542957870462,\n",
       " 172.48108913345823,\n",
       " 175.73235560113446,\n",
       " 173.30917671705808,\n",
       " 170.5016307174128,\n",
       " 171.47442800822694,\n",
       " 172.921116303701,\n",
       " 171.1639042540142,\n",
       " 173.15958685889186,\n",
       " 170.6199464194715,\n",
       " 170.84177739176616,\n",
       " 171.99038709269252,\n",
       " 174.23130175705404,\n",
       " 170.4855060493516,\n",
       " 172.02085224658146,\n",
       " 172.08650337240257,\n",
       " 173.12384811687497,\n",
       " 170.09817772721084,\n",
       " 171.4714587067785,\n",
       " 172.78753151796303,\n",
       " 172.85937740574727,\n",
       " 169.39067373385993,\n",
       " 172.88433436767303,\n",
       " 172.09661414856313,\n",
       " 172.27425697400423,\n",
       " 170.7114548591524,\n",
       " 172.19296597942235,\n",
       " 167.52865965907253,\n",
       " 172.32570464261443,\n",
       " 172.72742669079858,\n",
       " 172.5216957174198,\n",
       " 172.05940736419612,\n",
       " 168.8771648188222,\n",
       " 170.44810196307384,\n",
       " 173.01149455582384,\n",
       " 172.52292732563117,\n",
       " 169.7669347411906,\n",
       " 169.465402331526,\n",
       " 173.02223016664223,\n",
       " 170.27061511503928,\n",
       " 171.18421420659692,\n",
       " 173.06750477700962,\n",
       " 173.43258352486112,\n",
       " 171.82939845035773,\n",
       " 170.92672944980677,\n",
       " 169.81785832026858,\n",
       " 171.92871073981357,\n",
       " 170.34135388864743,\n",
       " 169.05442315458353,\n",
       " 172.84601765466334,\n",
       " 171.73522189318317,\n",
       " 169.2123811879794,\n",
       " 172.29730173923366,\n",
       " 169.99961438919348,\n",
       " 170.02830791269838,\n",
       " 171.75064789746975,\n",
       " 170.766935167691,\n",
       " 173.9810026650127,\n",
       " 169.92358516806348,\n",
       " 174.53205578998305,\n",
       " 173.21890262201072,\n",
       " 174.25370792104414,\n",
       " 172.91850748641357,\n",
       " 172.6887688830941,\n",
       " 172.064319088991,\n",
       " 169.88770099269323,\n",
       " 171.46079489790765,\n",
       " 171.48307828152147,\n",
       " 172.59879898682084,\n",
       " 172.37504542447692,\n",
       " 168.70639919115436,\n",
       " 172.76066642690037,\n",
       " 171.6634185490236,\n",
       " 173.98434386877807,\n",
       " 171.42827851034042,\n",
       " 171.77118445785496,\n",
       " 169.17922506646468,\n",
       " 173.782895546607,\n",
       " 170.82035700816542,\n",
       " 170.98291389030948,\n",
       " 172.02218170287054,\n",
       " 173.20080178649226,\n",
       " 172.85589043208137,\n",
       " 171.9024897421873,\n",
       " 170.45743937442882,\n",
       " 171.64487927395743]"
      ]
     },
     "execution_count": 53,
     "metadata": {},
     "output_type": "execute_result"
    }
   ],
   "source": [
    "seed(47)\n",
    "# take your samples here\n",
    "Data = sample_each_day(365, 10)\n",
    "Data"
   ]
  },
  {
   "cell_type": "code",
   "execution_count": 98,
   "metadata": {},
   "outputs": [
    {
     "data": {
      "text/plain": [
       "(array([ 4., 16., 35., 49., 58., 69., 83., 32., 15.,  4.]),\n",
       " array([167.52865966, 168.37373915, 169.21881865, 170.06389814,\n",
       "        170.90897763, 171.75405713, 172.59913662, 173.44421611,\n",
       "        174.28929561, 175.1343751 , 175.9794546 ]),\n",
       " <a list of 1 Patch objects>)"
      ]
     },
     "execution_count": 98,
     "metadata": {},
     "output_type": "execute_result"
    },
    {
     "data": {
      "image/png": "[encoded data removed]",
      "text/plain": [
       "<Figure size 432x288 with 1 Axes>"
      ]
     },
     "metadata": {
      "needs_background": "light"
     },
     "output_type": "display_data"
    }
   ],
   "source": [
    "plt.hist(np.array(Data), histtype='stepfilled', facecolor='g',\n",
    "               alpha=0.5)"
   ]
  },
  {
   "cell_type": "markdown",
   "metadata": {},
   "source": [
    "The above is the distribution of the means of samples of size 10 taken from our population. The Central Limit Theorem tells us the expected mean of this distribution will be equal to the population mean, and standard deviation will be $\\sigma / \\sqrt n$, which, in this case, should be approximately 1.58."
   ]
  },
  {
   "cell_type": "markdown",
   "metadata": {},
   "source": [
    "__Q9:__ Verify the above results from the CLT."
   ]
  },
  {
   "cell_type": "markdown",
   "metadata": {},
   "source": [
    "__A:__"
   ]
  },
  {
   "cell_type": "code",
   "execution_count": 55,
   "metadata": {},
   "outputs": [
    {
     "data": {
      "text/plain": [
       "171.8660049358649"
      ]
     },
     "execution_count": 55,
     "metadata": {},
     "output_type": "execute_result"
    }
   ],
   "source": [
    "(np.mean(np.array(Data)))"
   ]
  },
  {
   "cell_type": "code",
   "execution_count": 56,
   "metadata": {},
   "outputs": [
    {
     "data": {
      "text/plain": [
       "1.5756704135286475"
      ]
     },
     "execution_count": 56,
     "metadata": {},
     "output_type": "execute_result"
    }
   ],
   "source": [
    "(np.std(np.array(Data)))"
   ]
  },
  {
   "cell_type": "markdown",
   "metadata": {},
   "source": [
    "Remember, in this instance, we knew our population parameters, that the average height really is 172 cm and the standard deviation is 5 cm, and we see some of our daily estimates of the population mean were as low as around 168 and some as high as 176."
   ]
  },
  {
   "cell_type": "markdown",
   "metadata": {},
   "source": [
    "__Q10:__ Repeat the above year's worth of samples but for a sample size of 50 (perhaps you had a bigger budget for conducting surveys that year)! Would you expect your distribution of sample means to be wider (more variable) or narrower (more consistent)? Compare your resultant summary statistics to those predicted by the CLT."
   ]
  },
  {
   "cell_type": "markdown",
   "metadata": {},
   "source": [
    "__A:__"
   ]
  },
  {
   "cell_type": "code",
   "execution_count": 57,
   "metadata": {},
   "outputs": [],
   "source": [
    "seed(47)\n",
    "# calculate daily means from the larger sample size here\n",
    "Data_2 = sample_each_day(365, 50)\n",
    "\n"
   ]
  },
  {
   "cell_type": "code",
   "execution_count": 95,
   "metadata": {},
   "outputs": [
    {
     "data": {
      "text/plain": [
       "(array([ 5., 18., 29., 57., 70., 68., 65., 41., 10.,  2.]),\n",
       " array([170.07952859, 170.45187698, 170.82422537, 171.19657376,\n",
       "        171.56892215, 171.94127054, 172.31361893, 172.68596732,\n",
       "        173.05831571, 173.4306641 , 173.80301249]),\n",
       " <a list of 1 Patch objects>)"
      ]
     },
     "execution_count": 95,
     "metadata": {},
     "output_type": "execute_result"
    },
    {
     "data": {
      "image/png": "[encoded data removed]",
      "text/plain": [
       "<Figure size 432x288 with 1 Axes>"
      ]
     },
     "metadata": {
      "needs_background": "light"
     },
     "output_type": "display_data"
    }
   ],
   "source": [
    "plt.hist(Data_2, histtype='stepfilled', facecolor='red',\n",
    "               alpha=0.5)"
   ]
  },
  {
   "cell_type": "markdown",
   "metadata": {},
   "source": [
    "What we've seen so far, then, is that we can estimate population parameters from a sample from the population, and that samples have their own distributions. Furthermore, the larger the sample size, the narrower are those sampling distributions."
   ]
  },
  {
   "cell_type": "markdown",
   "metadata": {},
   "source": [
    "### Normally testing time!"
   ]
  },
  {
   "cell_type": "markdown",
   "metadata": {},
   "source": [
    "All of the above is well and good. We've been sampling from a population we know is normally distributed, we've come to understand when to use $n$ and when to use $n-1$ in the denominator to calculate the spread of a distribution, and we've  seen the Central Limit Theorem in action for a sampling distribution. All seems very well behaved in Frequentist land. But, well, why should we really care?"
   ]
  },
  {
   "cell_type": "markdown",
   "metadata": {},
   "source": [
    "Remember, we rarely (if ever) actually know our population parameters but we still have to estimate them somehow. If we want to make inferences to conclusions like \"this observation is unusual\" or \"my population mean has changed\" then we need to have some idea of what the underlying distribution is so we can calculate relevant probabilities. In frequentist inference, we use the formulae above to deduce these population parameters. Take a moment in the next part of this assignment to refresh your understanding of how these probabilities work."
   ]
  },
  {
   "cell_type": "markdown",
   "metadata": {},
   "source": [
    "Recall some basic properties of the standard normal distribution, such as that about 68% of observations are within plus or minus 1 standard deviation of the mean. Check out the precise definition of a normal distribution on p. 394 of *AoS*. \n",
    "\n",
    "__Q11:__ Using this fact, calculate the probability of observing the value 1 or less in a single observation from the standard normal distribution. Hint: you may find it helpful to sketch the standard normal distribution (the familiar bell shape) and mark the number of standard deviations from the mean on the x-axis and shade the regions of the curve that contain certain percentages of the population."
   ]
  },
  {
   "cell_type": "markdown",
   "metadata": {},
   "source": [
    "__A:__ 0.842"
   ]
  },
  {
   "cell_type": "markdown",
   "metadata": {},
   "source": [
    "Calculating this probability involved calculating the area under the curve from the value of 1 and below. To put it in mathematical terms, we need to *integrate* the probability density function. We could just add together the known areas of chunks (from -Inf to 0 and then 0 to $+\\sigma$ in the example above). One way to do this is to look up tables (literally). Fortunately, scipy has this functionality built in with the cdf() function."
   ]
  },
  {
   "cell_type": "markdown",
   "metadata": {},
   "source": [
    "__Q12:__ Use the cdf() function to answer the question above again and verify you get the same answer."
   ]
  },
  {
   "cell_type": "markdown",
   "metadata": {},
   "source": [
    "__A:__ 0.842"
   ]
  },
  {
   "cell_type": "code",
   "execution_count": 59,
   "metadata": {},
   "outputs": [
    {
     "data": {
      "image/png": "[encoded data removed]",
      "text/plain": [
       "<Figure size 432x288 with 1 Axes>"
      ]
     },
     "metadata": {
      "needs_background": "light"
     },
     "output_type": "display_data"
    }
   ],
   "source": [
    "x = np.linspace(-4,4,1000)\n",
    "y_cdf = norm.cdf(x, 0, 1)\n",
    "plt.plot(x,y_cdf)\n",
    "plt.axvline(1,color = 'red')\n",
    "plt.axhline(0.842,color='red')\n",
    "plt.plot(1,0.842,'o', color='black', markersize=10)\n",
    "plt.show()\n",
    "\n"
   ]
  },
  {
   "cell_type": "markdown",
   "metadata": {},
   "source": [
    "__Q13:__ Using our knowledge of the population parameters for our townsfolks' heights, what is the probability of selecting one person at random and their height being 177 cm or less? Calculate this using both of the approaches given above."
   ]
  },
  {
   "cell_type": "markdown",
   "metadata": {},
   "source": [
    "__A:__ 0.842 from the first approach and it should be the same using the second. "
   ]
  },
  {
   "cell_type": "code",
   "execution_count": 60,
   "metadata": {},
   "outputs": [
    {
     "name": "stdout",
     "output_type": "stream",
     "text": [
      "177.01009938215088\n"
     ]
    },
    {
     "data": {
      "image/png": "[encoded data removed]",
      "text/plain": [
       "<Figure size 432x288 with 1 Axes>"
      ]
     },
     "metadata": {
      "needs_background": "light"
     },
     "output_type": "display_data"
    },
    {
     "name": "stdout",
     "output_type": "stream",
     "text": [
      "186.99177766128366\n"
     ]
    }
   ],
   "source": [
    "std = np.std(pop_heights)\n",
    "mean = np.mean(pop_heights)\n",
    "print(mean+std)\n",
    "\n",
    "y = np.arange(1,len(pop_heights)+1)/len(pop_heights)\n",
    "plt.plot(np.sort(pop_heights),y)\n",
    "plt.axvline(177,color = 'red')\n",
    "plt.axhline(0.842,color='red')\n",
    "plt.plot(177,0.842,'o', color='black', markersize=10)\n",
    "plt.show()\n",
    "plt.show()\n",
    "\n",
    "print(mean+3*std)\n",
    "\n"
   ]
  },
  {
   "cell_type": "markdown",
   "metadata": {},
   "source": [
    "__Q14:__ Turning this question around — suppose we randomly pick one person and measure their height and find they are 2.00 m tall. How surprised should we be at this result, given what we know about the population distribution? In other words, how likely would it be to obtain a value at least as extreme as this? Express this as a probability. "
   ]
  },
  {
   "cell_type": "markdown",
   "metadata": {},
   "source": [
    "__A:__ This is an unfeasable result and the probablity for that to happen is zero."
   ]
  },
  {
   "cell_type": "code",
   "execution_count": null,
   "metadata": {},
   "outputs": [],
   "source": []
  },
  {
   "cell_type": "markdown",
   "metadata": {},
   "source": [
    "What we've just done is calculate the ***p-value*** of the observation of someone 2.00m tall (review *p*-values if you need to on p. 399 of *AoS*). We could calculate this probability by virtue of knowing the population parameters. We were then able to use the known properties of the relevant normal distribution to calculate the probability of observing a value at least as extreme as our test value."
   ]
  },
  {
   "cell_type": "markdown",
   "metadata": {},
   "source": [
    "We're about to come to a pinch, though. We've said a couple of times that we rarely, if ever, know the true population parameters; we have to estimate them from our sample and we cannot even begin to estimate the standard deviation from a single observation. \n",
    "\n",
    "This is very true and usually we have sample sizes larger than one. This means we can calculate the mean of the sample as our best estimate of the population mean and the standard deviation as our best estimate of the population standard deviation. \n",
    "\n",
    "In other words, we are now coming to deal with the sampling distributions we mentioned above as we are generally concerned with the properties of the sample means we obtain. \n",
    "\n",
    "Above, we highlighted one result from the CLT, whereby the sampling distribution (of the mean) becomes narrower and narrower with the square root of the sample size. We remind ourselves that another result from the CLT is that _even if the underlying population distribution is not normal, the sampling distribution will tend to become normal with sufficiently large sample size_. (**Check out p. 199 of AoS if you need to revise this**). This is the key driver for us 'requiring' a certain sample size, for example you may frequently see a minimum sample size of 30 stated in many places. In reality this is simply a rule of thumb; if the underlying distribution is approximately normal then your sampling distribution will already be pretty normal, but if the underlying distribution is heavily skewed then you'd want to increase your sample size."
   ]
  },
  {
   "cell_type": "markdown",
   "metadata": {},
   "source": [
    "__Q15:__ Let's now start from the position of knowing nothing about the heights of people in our town.\n",
    "* Use the random seed of 47, to randomly sample the heights of 50 townsfolk\n",
    "* Estimate the population mean using np.mean\n",
    "* Estimate the population standard deviation using np.std (remember which denominator to use!)\n",
    "* Calculate the (95%) [margin of error](https://www.statisticshowto.datasciencecentral.com/probability-and-statistics/hypothesis-testing/margin-of-error/#WhatMofE) (use the exact critial z value to 2 decimal places - [look this up](https://www.statisticshowto.datasciencecentral.com/probability-and-statistics/find-critical-values/) or use norm.ppf()) Recall that the ***margin of error*** is mentioned on p. 189 of the *AoS* and discussed in depth in that chapter). \n",
    "* Calculate the 95% Confidence Interval of the mean (***confidence intervals*** are defined on p. 385 of *AoS*) \n",
    "* Does this interval include the true population mean?"
   ]
  },
  {
   "cell_type": "markdown",
   "metadata": {},
   "source": [
    "__A:__"
   ]
  },
  {
   "cell_type": "code",
   "execution_count": 72,
   "metadata": {},
   "outputs": [
    {
     "data": {
      "image/png": "[encoded data removed]",
      "text/plain": [
       "<Figure size 432x288 with 1 Axes>"
      ]
     },
     "metadata": {
      "needs_background": "light"
     },
     "output_type": "display_data"
    }
   ],
   "source": [
    "seed(47)\n",
    "# take your sample now\n",
    "Data_3 = townsfolk_sampler(50)\n",
    "plt.hist(Data_3)\n",
    "plt.show()\n"
   ]
  },
  {
   "cell_type": "code",
   "execution_count": 73,
   "metadata": {},
   "outputs": [
    {
     "name": "stdout",
     "output_type": "stream",
     "text": [
      "172.7815108576788\n"
     ]
    }
   ],
   "source": [
    "mean_3 = np.mean(Data_3)\n",
    "print(mean_3)"
   ]
  },
  {
   "cell_type": "code",
   "execution_count": 74,
   "metadata": {},
   "outputs": [],
   "source": [
    "std_3 = np.std(Data_3)"
   ]
  },
  {
   "cell_type": "code",
   "execution_count": 75,
   "metadata": {},
   "outputs": [
    {
     "name": "stdout",
     "output_type": "stream",
     "text": [
      "172.91939903075757 172.64362268460002 172.7815108576788\n"
     ]
    }
   ],
   "source": [
    "z = (Data_3 - mean_3)/std_3\n",
    "np.sort(z)\n",
    "## From Z tables\n",
    "Margin_error_plus = mean_3 + 1.66*std_3/(len(Data_3))\n",
    "Margin_error_minus = mean_3 - 1.66*std_3/(len(Data_3))\n",
    "print(Margin_error_plus, Margin_error_minus, mean_3)"
   ]
  },
  {
   "cell_type": "code",
   "execution_count": 92,
   "metadata": {},
   "outputs": [
    {
     "name": "stdout",
     "output_type": "stream",
     "text": [
      "173.74763111522026 171.81539060013733 1.932240515082924\n"
     ]
    }
   ],
   "source": [
    "## Using ppf function\n",
    "p = 0.95\n",
    "value = norm.ppf(p)\n",
    "value\n",
    "Margin_error_plus = mean_3 + value*std_3/(np.sqrt(len(Data_3)))\n",
    "Margin_error_minus = mean_3 - value*std_3/(np.sqrt(len(Data_3)))\n",
    "width = Margin_error_plus - Margin_error_minus\n",
    "print(Margin_error_plus, Margin_error_minus, width)"
   ]
  },
  {
   "cell_type": "markdown",
   "metadata": {},
   "source": [
    "__Q16:__ Above, we calculated the confidence interval using the critical z value. What is the problem with this? What requirement, or requirements, are we (strictly) failing?"
   ]
  },
  {
   "cell_type": "markdown",
   "metadata": {},
   "source": [
    "__A:__ For smaller sample size the CLT doesn't strictly hold and thus the estimates of mean and standard deviations are not accurate. Therefore the margin of error computed via z score doesn't strictly estimate the right margin of errors."
   ]
  },
  {
   "cell_type": "markdown",
   "metadata": {},
   "source": [
    "__Q17:__ Calculate the 95% confidence interval for the mean using the _t_ distribution. Is this wider or narrower than that based on the normal distribution above? If you're unsure, you may find this [resource](https://www.statisticshowto.datasciencecentral.com/probability-and-statistics/confidence-interval/) useful. For calculating the critical value, remember how you could calculate this for the normal distribution using norm.ppf()."
   ]
  },
  {
   "cell_type": "markdown",
   "metadata": {},
   "source": [
    "__A:__"
   ]
  },
  {
   "cell_type": "code",
   "execution_count": 89,
   "metadata": {},
   "outputs": [
    {
     "name": "stdout",
     "output_type": "stream",
     "text": [
      "49 0.025000000000000022\n"
     ]
    }
   ],
   "source": [
    "df_ = len(Data_3)-1\n",
    "alpha = (1-0.95) / 2 \n",
    "print(df_, alpha)\n"
   ]
  },
  {
   "cell_type": "code",
   "execution_count": 90,
   "metadata": {},
   "outputs": [
    {
     "data": {
      "text/plain": [
       "1.6765508919142629"
      ]
     },
     "execution_count": 90,
     "metadata": {},
     "output_type": "execute_result"
    }
   ],
   "source": [
    "cf = t.ppf(0.95, df = df_)\n",
    "cf"
   ]
  },
  {
   "cell_type": "code",
   "execution_count": 91,
   "metadata": {},
   "outputs": [
    {
     "name": "stdout",
     "output_type": "stream",
     "text": [
      "173.7662488020998 171.7967729132578 1.9694758888419983\n"
     ]
    }
   ],
   "source": [
    "Margin_error_plus = mean_3 + cf * std_3/(np.sqrt(len(Data_3)))\n",
    "Margin_error_minus = mean_3 - cf * std_3/(np.sqrt(len(Data_3)))\n",
    "width = Margin_error_plus - Margin_error_minus\n",
    "print(Margin_error_plus, Margin_error_minus, width)"
   ]
  },
  {
   "cell_type": "markdown",
   "metadata": {},
   "source": [
    "This is slightly wider than the previous confidence interval. This reflects the greater uncertainty given that we are estimating population parameters from a sample."
   ]
  },
  {
   "cell_type": "markdown",
   "metadata": {},
   "source": [
    "## 4. Learning outcomes"
   ]
  },
  {
   "cell_type": "markdown",
   "metadata": {},
   "source": [
    "Having completed this project notebook, you now have hands-on experience:\n",
    "* sampling and calculating probabilities from a normal distribution\n",
    "* identifying the correct way to estimate the standard deviation of a population (the population parameter) from a sample\n",
    "* with sampling distribution and now know how the Central Limit Theorem applies\n",
    "* with how to calculate critical values and confidence intervals"
   ]
  },
  {
   "cell_type": "code",
   "execution_count": null,
   "metadata": {},
   "outputs": [],
   "source": []
  }
 ],
 "metadata": {
  "kernelspec": {
   "display_name": "Python 3",
   "language": "python",
   "name": "python3"
  },
  "language_info": {
   "codemirror_mode": {
    "name": "ipython",
    "version": 3
   },
   "file_extension": ".py",
   "mimetype": "text/x-python",
   "name": "python",
   "nbconvert_exporter": "python",
   "pygments_lexer": "ipython3",
   "version": "3.7.9"
  }
 },
 "nbformat": 4,
 "nbformat_minor": 2
}
